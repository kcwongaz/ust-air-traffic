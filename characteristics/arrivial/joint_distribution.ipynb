{
 "cells": [
  {
   "cell_type": "code",
   "execution_count": 230,
   "metadata": {},
   "outputs": [],
   "source": [
    "import numpy as np\n",
    "import pandas as pd\n",
    "import matplotlib.pyplot as plt\n",
    "\n",
    "from arrivial_rate import arrivial_rate\n",
    "\n",
    "\n",
    "fname = \"/home/kc/Research/air_traffic/data/fr24_clean/time_distance.txt\"\n",
    "sdir = \"/home/kc/Research/air_traffic/figures/2022-03-01\"\n",
    "\n",
    "plt.rcParams.update({\n",
    "    \"font.family\": \"serif\",\n",
    "    \"font.sans-serif\": [\"Helvetica\"]}\n",
    ")"
   ]
  },
  {
   "cell_type": "code",
   "execution_count": 231,
   "metadata": {},
   "outputs": [],
   "source": [
    "year = 2017\n",
    "dt = 60 * 15\n",
    "day_sec = 86400\n",
    "day_n = 86400 // dt  # Number of time steps in one day\n",
    "hour_n = 3600 // dt  # Number of time stemps in one hour"
   ]
  },
  {
   "cell_type": "code",
   "execution_count": 232,
   "metadata": {},
   "outputs": [],
   "source": [
    "df = pd.read_csv(fname, header=0)\n",
    "df[\"year\"] = pd.to_datetime(df[\"t_f\"], unit=\"s\").dt.year\n",
    "df[\"month\"] = pd.to_datetime(df[\"t_f\"], unit=\"s\").dt.month\n",
    "df = df.loc[df[\"year\"] == year]\n",
    "df = df[df[\"month\"].isin(range(1, 3))]\n",
    "\n",
    "arr_times = df[\"t_f\"].to_numpy()\n",
    "arr_rate, t_axis = arrivial_rate(arr_times, dt, start_hour=16, start_by=\"cut\")\n",
    "\n",
    "total_day = len(t_axis) // day_n  # Number of day contained in time series"
   ]
  },
  {
   "cell_type": "code",
   "execution_count": 233,
   "metadata": {},
   "outputs": [],
   "source": [
    "# Joint distribution at abnormal time\n",
    "\n",
    "t1 = 3600 * 3  # 2:00 HKT\n",
    "n1 = t1 // dt\n",
    "\n",
    "t2 = 3600 * 12 # 12:00 HKT\n",
    "n2 = t2 // dt\n",
    "\n",
    "\n",
    "lambda1 = []\n",
    "lambda2 = []\n",
    "\n",
    "for i in range(total_day):\n",
    "    for j in range(-hour_n, hour_n+1):\n",
    "        lambda1.append(arr_rate[n1 + j + i*day_n])\n",
    "        lambda2.append(arr_rate[n2 + j + i*day_n])\n",
    "\n",
    "hist, x_edges, y_edges = np.histogram2d(lambda1, lambda2, bins=range(10), density=False)\n"
   ]
  },
  {
   "cell_type": "code",
   "execution_count": 234,
   "metadata": {},
   "outputs": [
    {
     "data": {
      "image/png": "[encoded data removed]",
      "text/plain": [
       "<Figure size 432x288 with 1 Axes>"
      ]
     },
     "metadata": {},
     "output_type": "display_data"
    }
   ],
   "source": [
    "# Draw Joint distribution\n",
    "\n",
    "fig, ax = plt.subplots()\n",
    "\n",
    "hist = hist.T   # histogram2d and imshow has different index convention\n",
    "im = ax.imshow(hist, cmap=\"viridis\", origin=\"lower\",\n",
    "               extent=[x_edges[0], x_edges[-1], y_edges[0], y_edges[-1]])\n",
    "plt.show()"
   ]
  },
  {
   "cell_type": "code",
   "execution_count": 235,
   "metadata": {},
   "outputs": [
    {
     "data": {
      "image/png": "[encoded data removed]",
      "text/plain": [
       "<Figure size 432x288 with 1 Axes>"
      ]
     },
     "metadata": {},
     "output_type": "display_data"
    }
   ],
   "source": [
    "# Draw Product distribution\n",
    "\n",
    "fig, ax = plt.subplots()\n",
    "\n",
    "x_hist, x_edges, = np.histogram(lambda1, bins=range(11), density=False)\n",
    "y_hist, y_edges, = np.histogram(lambda2, bins=range(11), density=False)\n",
    "\n",
    "hist_p = np.outer(y_hist, x_hist)\n",
    "\n",
    "\n",
    "im = ax.imshow(hist_p, cmap=\"viridis\", origin=\"lower\",\n",
    "               extent=[x_edges[0], x_edges[-1], y_edges[0], y_edges[-1]])\n",
    "plt.show()"
   ]
  },
  {
   "cell_type": "code",
   "execution_count": 236,
   "metadata": {},
   "outputs": [],
   "source": [
    "# Joint distribution at normal time\n",
    "\n",
    "t3 = 3600 * 10  # 12:00 HKT\n",
    "n3 = t3 // dt\n",
    "\n",
    "t4 = 3600 * 16 # 13:00 HKT\n",
    "n4 = t4 // dt\n",
    "\n",
    "\n",
    "lambda3 = []\n",
    "lambda4 = []\n",
    "\n",
    "for i in range(total_day):\n",
    "    for j in range(-hour_n, hour_n+1):\n",
    "        lambda3.append(arr_rate[n3 + j + i*day_n])\n",
    "        lambda4.append(arr_rate[n4 + j + i*day_n])\n",
    "\n",
    "hist, x_edges, y_edges = np.histogram2d(lambda3, lambda4, bins=range(11), density=False)\n"
   ]
  },
  {
   "cell_type": "code",
   "execution_count": 237,
   "metadata": {},
   "outputs": [
    {
     "data": {
      "image/png": "[encoded data removed]",
      "text/plain": [
       "<Figure size 432x288 with 1 Axes>"
      ]
     },
     "metadata": {},
     "output_type": "display_data"
    }
   ],
   "source": [
    "# Draw Joint distribution\n",
    "\n",
    "fig, ax = plt.subplots()\n",
    "\n",
    "hist = hist.T   # histogram2d and imshow has different index convention\n",
    "im = ax.imshow(hist, cmap=\"viridis\", origin=\"lower\",\n",
    "               extent=[x_edges[0], x_edges[-1], y_edges[0], y_edges[-1]])\n",
    "plt.show()"
   ]
  },
  {
   "cell_type": "code",
   "execution_count": 238,
   "metadata": {},
   "outputs": [
    {
     "data": {
      "image/png": "[encoded data removed]",
      "text/plain": [
       "<Figure size 432x288 with 1 Axes>"
      ]
     },
     "metadata": {},
     "output_type": "display_data"
    }
   ],
   "source": [
    "# Draw Product distribution\n",
    "\n",
    "fig, ax = plt.subplots()\n",
    "\n",
    "x_hist, x_edges, = np.histogram(lambda3, bins=range(11), density=False)\n",
    "y_hist, y_edges, = np.histogram(lambda4, bins=range(11), density=False)\n",
    "hist_p = np.outer(y_hist, x_hist)\n",
    "\n",
    "im = ax.imshow(hist_p, cmap=\"viridis\", origin=\"lower\",\n",
    "               extent=[x_edges[0], x_edges[-1], y_edges[0], y_edges[-1]])\n",
    "plt.show()"
   ]
  }
 ],
 "metadata": {
  "interpreter": {
   "hash": "45bd3b02f9e7747c1be67c65dce21c4130c6ed14b714422d7c27b7420dc8e87c"
  },
  "kernelspec": {
   "display_name": "Python 3.10.2 ('venv': venv)",
   "language": "python",
   "name": "python3"
  },
  "language_info": {
   "codemirror_mode": {
    "name": "ipython",
    "version": 3
   },
   "file_extension": ".py",
   "mimetype": "text/x-python",
   "name": "python",
   "nbconvert_exporter": "python",
   "pygments_lexer": "ipython3",
   "version": "3.10.2"
  },
  "orig_nbformat": 4
 },
 "nbformat": 4,
 "nbformat_minor": 2
}
